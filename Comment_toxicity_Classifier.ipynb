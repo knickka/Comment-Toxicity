{
  "nbformat": 4,
  "nbformat_minor": 0,
  "metadata": {
    "colab": {
      "provenance": [],
      "mount_file_id": "1nQO5egs4EJ83fuU59ge7DFcfyXvlNump",
      "authorship_tag": "ABX9TyOMZzWmUdf9rBDDeZ9uHxcI",
      "include_colab_link": true
    },
    "kernelspec": {
      "name": "python3",
      "display_name": "Python 3"
    },
    "language_info": {
      "name": "python"
    }
  },
  "cells": [
    {
      "cell_type": "markdown",
      "metadata": {
        "id": "view-in-github",
        "colab_type": "text"
      },
      "source": [
        "<a href=\"https://colab.research.google.com/github/knickka/Comment-Toxicity/blob/main/Comment_toxicity_Classifier.ipynb\" target=\"_parent\"><img src=\"https://colab.research.google.com/assets/colab-badge.svg\" alt=\"Open In Colab\"/></a>"
      ]
    },
    {
      "cell_type": "code",
      "execution_count": 1,
      "metadata": {
        "id": "pC6pP2X343M7"
      },
      "outputs": [],
      "source": [
        "import os\n",
        "import pandas as pd\n",
        "import tensorflow as tf\n",
        "import numpy as np\n"
      ]
    },
    {
      "cell_type": "code",
      "source": [
        "path = '/content/drive/MyDrive/Colab Notebooks/Toxic_Comment_Detection/toxci_comment_train.csv'\n",
        "df = pd.read_csv(path)\n"
      ],
      "metadata": {
        "id": "UZLl3-2554Px"
      },
      "execution_count": 3,
      "outputs": []
    },
    {
      "cell_type": "code",
      "source": [
        "df.iloc[43]['comment_text']"
      ],
      "metadata": {
        "id": "TDPFe0J86BiK"
      },
      "execution_count": null,
      "outputs": []
    },
    {
      "cell_type": "code",
      "source": [
        "df[df.columns[2:]].iloc[43]"
      ],
      "metadata": {
        "id": "au0CSzvY9m6m"
      },
      "execution_count": null,
      "outputs": []
    },
    {
      "cell_type": "markdown",
      "source": [
        "## Preprocess"
      ],
      "metadata": {
        "id": "UKygLJUM-d4-"
      }
    },
    {
      "cell_type": "code",
      "source": [
        "#imports\n",
        "from tensorflow.keras.layers import TextVectorization"
      ],
      "metadata": {
        "id": "btWDKTA1-dof"
      },
      "execution_count": 6,
      "outputs": []
    },
    {
      "cell_type": "code",
      "source": [
        "X = df['comment_text']\n",
        "y = df[df.columns[2:]].values"
      ],
      "metadata": {
        "id": "VemctteB-EGv"
      },
      "execution_count": 7,
      "outputs": []
    },
    {
      "cell_type": "code",
      "source": [
        "MAX_WORDS = 200000 #number of words in our vocab\n"
      ],
      "metadata": {
        "id": "PJdMG7tg_Qmy"
      },
      "execution_count": 8,
      "outputs": []
    },
    {
      "cell_type": "code",
      "source": [
        "vectorizer = TextVectorization(max_tokens=MAX_WORDS,\n",
        "                                  output_sequence_length = 1800,\n",
        "                                  output_mode = 'int')"
      ],
      "metadata": {
        "id": "XM0SogLMAvtZ"
      },
      "execution_count": 9,
      "outputs": []
    },
    {
      "cell_type": "code",
      "source": [
        "vectorizer.adapt(X.values)"
      ],
      "metadata": {
        "id": "UcrkAlkrBIlS"
      },
      "execution_count": 10,
      "outputs": []
    },
    {
      "cell_type": "code",
      "source": [
        "vectorized_text = vectorizer(X.values)"
      ],
      "metadata": {
        "id": "sN_BmYOfDIIJ"
      },
      "execution_count": 11,
      "outputs": []
    },
    {
      "cell_type": "code",
      "source": [
        "len(X)"
      ],
      "metadata": {
        "id": "fjadcXKvDVSx"
      },
      "execution_count": null,
      "outputs": []
    },
    {
      "cell_type": "code",
      "source": [
        "vectorized_text"
      ],
      "metadata": {
        "id": "R6akfWs6Dpw2"
      },
      "execution_count": null,
      "outputs": []
    },
    {
      "cell_type": "code",
      "source": [
        "def Save_Vectorizer(vectorizer,path):\n",
        "  vectorizer_model = tf.keras.models.Sequential()\n",
        "  vectorizer_model.add(tf.keras.Input(shape=(1,),dtype=tf.string))\n",
        "  vectorizer_model.add(vectorizer)\n",
        "  res = vectorizer_model.summary()\n",
        "\n",
        "  vectorizer_model.save(path,save_format='tf')\n",
        "  print(res)"
      ],
      "metadata": {
        "id": "sCK_S83Tyo0A"
      },
      "execution_count": 77,
      "outputs": []
    },
    {
      "cell_type": "code",
      "source": [
        "path = '/content/drive/MyDrive/Colab Notebooks/Toxic_Comment_Detection/vectorizer'\n",
        "Save_Vectorizer(vectorizer,path)"
      ],
      "metadata": {
        "id": "U55K7jb22FWH"
      },
      "execution_count": null,
      "outputs": []
    },
    {
      "cell_type": "code",
      "source": [
        "#MCSHBP - map, cache, shuffle, batch prefetch from_tensor_slices, from_list\n",
        "\n",
        "dataset = tf.data.Dataset.from_tensor_slices((vectorized_text,y))\n",
        "dataset = dataset.cache()\n",
        "dataset = dataset.shuffle(160000)\n",
        "dataset = dataset.batch(16)\n",
        "dataset = dataset.prefetch(8)"
      ],
      "metadata": {
        "id": "ZGD6YYp5FJqg"
      },
      "execution_count": 14,
      "outputs": []
    },
    {
      "cell_type": "code",
      "source": [
        "dataset.as_numpy_iterator().next()"
      ],
      "metadata": {
        "id": "2AUZv9N6G7_s"
      },
      "execution_count": null,
      "outputs": []
    },
    {
      "cell_type": "code",
      "source": [
        "train = dataset.take(int(len(dataset)*.7))\n",
        "val = dataset.skip(int(len(dataset)*.7)).take(int(len(dataset)*.2))\n",
        "test = dataset.skip(int(len(dataset)*.9)).take(int(len(dataset)*.1))"
      ],
      "metadata": {
        "id": "Bwq2h_xoHCSR"
      },
      "execution_count": 16,
      "outputs": []
    },
    {
      "cell_type": "code",
      "source": [
        "train_generator = train.as_numpy_iterator()"
      ],
      "metadata": {
        "id": "xdGdMkP0ICnZ"
      },
      "execution_count": 17,
      "outputs": []
    },
    {
      "cell_type": "code",
      "source": [
        "#imports\n",
        "from tensorflow.keras.models import Sequential\n",
        "from tensorflow.keras.layers import LSTM, Dropout, Dense, Bidirectional, Embedding"
      ],
      "metadata": {
        "id": "Q8_8qZ9sIOcD"
      },
      "execution_count": 21,
      "outputs": []
    },
    {
      "cell_type": "code",
      "source": [
        "model = Sequential()\n",
        "model.add(Embedding(MAX_WORDS+1,32))\n",
        "model.add(Bidirectional(LSTM(32,activation='tanh')))\n",
        "model.add(Dense(128,activation='relu'))\n",
        "model.add(Dense(256,activation='relu'))\n",
        "model.add(Dense(128,activation='relu'))\n",
        "model.add(Dense(6,activation='softmax'))\n"
      ],
      "metadata": {
        "id": "9ltOgS3NNS0n"
      },
      "execution_count": 22,
      "outputs": []
    },
    {
      "cell_type": "code",
      "source": [
        "model.compile(loss='BinaryCrossentropy',optimizer='Adam')"
      ],
      "metadata": {
        "id": "iQnmeNeLQWtj"
      },
      "execution_count": 23,
      "outputs": []
    },
    {
      "cell_type": "code",
      "source": [
        "model.summary()"
      ],
      "metadata": {
        "colab": {
          "base_uri": "https://localhost:8080/"
        },
        "id": "EAZiFl7jQb6C",
        "outputId": "9d1baa1c-4306-4a05-9b33-5ca62e7ed30c"
      },
      "execution_count": 24,
      "outputs": [
        {
          "output_type": "stream",
          "name": "stdout",
          "text": [
            "Model: \"sequential_1\"\n",
            "_________________________________________________________________\n",
            " Layer (type)                Output Shape              Param #   \n",
            "=================================================================\n",
            " embedding (Embedding)       (None, None, 32)          6400032   \n",
            "                                                                 \n",
            " bidirectional (Bidirectiona  (None, 64)               16640     \n",
            " l)                                                              \n",
            "                                                                 \n",
            " dense (Dense)               (None, 128)               8320      \n",
            "                                                                 \n",
            " dense_1 (Dense)             (None, 256)               33024     \n",
            "                                                                 \n",
            " dense_2 (Dense)             (None, 128)               32896     \n",
            "                                                                 \n",
            " dense_3 (Dense)             (None, 6)                 774       \n",
            "                                                                 \n",
            "=================================================================\n",
            "Total params: 6,491,686\n",
            "Trainable params: 6,491,686\n",
            "Non-trainable params: 0\n",
            "_________________________________________________________________\n"
          ]
        }
      ]
    },
    {
      "cell_type": "code",
      "source": [
        "history = model.fit(train,epochs=1,validation_data=val)"
      ],
      "metadata": {
        "colab": {
          "base_uri": "https://localhost:8080/"
        },
        "id": "EP0QOORXQdlc",
        "outputId": "4be766a0-b551-4ccf-874e-c2463aa4f0a7"
      },
      "execution_count": 30,
      "outputs": [
        {
          "output_type": "stream",
          "name": "stdout",
          "text": [
            "6981/6981 [==============================] - 15331s 2s/step - loss: 0.0617 - val_loss: 0.0466\n"
          ]
        }
      ]
    },
    {
      "cell_type": "code",
      "source": [
        "batch_x,batch_y = test.as_numpy_iterator().next()\n"
      ],
      "metadata": {
        "id": "kxceJ-B0QzU4"
      },
      "execution_count": 60,
      "outputs": []
    },
    {
      "cell_type": "code",
      "source": [
        "batch_y"
      ],
      "metadata": {
        "id": "pvC5D9ZXSAvh"
      },
      "execution_count": null,
      "outputs": []
    },
    {
      "cell_type": "code",
      "source": [
        "(model.predict(batch_x)>0.5).astype(int)"
      ],
      "metadata": {
        "id": "y3BKsXv0RnO4"
      },
      "execution_count": null,
      "outputs": []
    },
    {
      "cell_type": "code",
      "source": [
        "from tensorflow.keras.metrics import Precision, Recall, CategoricalAccuracy"
      ],
      "metadata": {
        "id": "Lr3afMwqRxlH"
      },
      "execution_count": 64,
      "outputs": []
    },
    {
      "cell_type": "code",
      "source": [
        "pre = Precision()\n",
        "re = Recall()\n",
        "acc = CategoricalAccuracy()"
      ],
      "metadata": {
        "id": "CHnr55t4SP4g"
      },
      "execution_count": 65,
      "outputs": []
    },
    {
      "cell_type": "code",
      "source": [
        "from tensorflow.python.ops.array_ops import batch_gather\n",
        "for batch in test.as_numpy_iterator():\n",
        "  x_true,y_true = batch\n",
        "\n",
        "  yhat = model.predict(x_true)\n",
        "\n",
        "  y_true = y_true.flatten()\n",
        "  yhat = yhat.flatten()\n",
        "\n",
        "  pre.update_state(y_true,yhat)\n",
        "  re.update_state(y_true,yhat)\n",
        "  acc.update_state(y_true,yhat)"
      ],
      "metadata": {
        "id": "R6hJGViKSbD-"
      },
      "execution_count": null,
      "outputs": []
    },
    {
      "cell_type": "code",
      "source": [
        "print(re.result().numpy())\n",
        "print(pre.result().numpy())\n",
        "print(acc.result().numpy())"
      ],
      "metadata": {
        "id": "OTLDGSCqS_3_"
      },
      "execution_count": null,
      "outputs": []
    },
    {
      "cell_type": "code",
      "source": [
        "path_m = '/content/drive/MyDrive/Colab Notebooks/Toxic_Comment_Detection/model'\n",
        "model.save(path_m,save_format='tf')"
      ],
      "metadata": {
        "id": "MbPUBfsr3Jmo"
      },
      "execution_count": null,
      "outputs": []
    },
    {
      "cell_type": "code",
      "source": [
        "features = df.columns[2:].values.tolist()\n",
        "features"
      ],
      "metadata": {
        "id": "LPm6GUeT4weD"
      },
      "execution_count": null,
      "outputs": []
    },
    {
      "cell_type": "code",
      "source": [
        "def return_vec(path):\n",
        "  vec_model = tf.keras.models.load_model(path)\n",
        "  vectorizer = vec_model.layers[0]\n",
        "  return vectorizer"
      ],
      "metadata": {
        "id": "_J-A3qy13kn0"
      },
      "execution_count": 83,
      "outputs": []
    },
    {
      "cell_type": "code",
      "source": [
        "vectorizer = return_vec(path)"
      ],
      "metadata": {
        "colab": {
          "base_uri": "https://localhost:8080/"
        },
        "id": "fYLJagUc3_wV",
        "outputId": "f4080fdd-90c4-4418-8dcf-d6afd284d0d9"
      },
      "execution_count": 84,
      "outputs": [
        {
          "output_type": "stream",
          "name": "stderr",
          "text": [
            "WARNING:tensorflow:No training configuration found in save file, so the model was *not* compiled. Compile it manually.\n"
          ]
        }
      ]
    },
    {
      "cell_type": "code",
      "source": [
        "model = tf.keras.models.load_model(path_m)"
      ],
      "metadata": {
        "id": "VLsYtct34Ufu"
      },
      "execution_count": 86,
      "outputs": []
    },
    {
      "cell_type": "code",
      "source": [],
      "metadata": {
        "id": "2mJirZ4967Vx"
      },
      "execution_count": null,
      "outputs": []
    }
  ]
}